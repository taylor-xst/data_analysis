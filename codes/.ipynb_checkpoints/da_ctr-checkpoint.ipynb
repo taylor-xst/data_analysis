{
 "cells": [
  {
   "cell_type": "code",
   "execution_count": null,
   "metadata": {},
   "outputs": [],
   "source": [
    "import pandas as pd\n",
    "import matplotlib.pyplot as plt\n"
   ]
  },
  {
   "cell_type": "code",
   "execution_count": null,
   "metadata": {},
   "outputs": [],
   "source": [
    "plt.rcParams['figure.dpi' ] = 300\n",
    "plt.rcParams['font.family']='sans-serif'\n",
    "plt.rcParams['font.sans-serif'] = ['Heiti TC']\n",
    "df = pd.read_excel('../datasets/ctr.xlsx')"
   ]
  },
  {
   "cell_type": "code",
   "execution_count": null,
   "metadata": {},
   "outputs": [],
   "source": [
    "def plot_ctr(df, isWorkday, device):\n",
    "    df = df[df['isWorkday'] == isWorkday]\n",
    "    df = df[df['device'] == device]\n",
    "    \n",
    "    df = df.sort_values(by=df.columns[0], ascending=True)\n",
    "    \n",
    "    floor_ids = set(df['floor_id'])\n",
    "    for floor_id in floor_ids:\n",
    "        part_df = df[df['floor_id']==floor_id]\n",
    "        \n",
    "        x = (part_df[part_df.columns[0]] % 1000).astype(str)\n",
    "        y = part_df[part_df.columns[-1]]\n",
    "        \n",
    "        plt.plot(x, y, label='floor_id=%d' %(floor_id))\n",
    "    \n",
    "    plt.ylim([0.2, 1.1])\n",
    "    plt.xticks(rotation=270)\n",
    "    plt.title('Top1点击率（isWorkday=%d, device=%s）' %(isWorkday, device))\n",
    "    plt.legend(loc='best', ncol=4, prop={'size': 8})\n",
    "    plt.show()"
   ]
  },
  {
   "cell_type": "code",
   "execution_count": null,
   "metadata": {},
   "outputs": [],
   "source": [
    "plot_ctr(df, 1, 'All')"
   ]
  },
  {
   "cell_type": "code",
   "execution_count": null,
   "metadata": {},
   "outputs": [],
   "source": []
  }
 ],
 "metadata": {
  "kernelspec": {
   "display_name": "Python 3",
   "language": "python",
   "name": "python3"
  },
  "language_info": {
   "codemirror_mode": {
    "name": "ipython",
    "version": 3
   },
   "file_extension": ".py",
   "mimetype": "text/x-python",
   "name": "python",
   "nbconvert_exporter": "python",
   "pygments_lexer": "ipython3",
   "version": "3.8.5"
  }
 },
 "nbformat": 4,
 "nbformat_minor": 4
}
